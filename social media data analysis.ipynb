{
 "metadata": {
  "name": "",
  "signature": "sha256:67d0538b4fc3b106382bb94e5a0069afdf7d4180adf2ea3b1ebab5f69258a68a"
 },
 "nbformat": 3,
 "nbformat_minor": 0,
 "worksheets": [
  {
   "cells": [
    {
     "cell_type": "heading",
     "level": 1,
     "metadata": {},
     "source": [
      "Analyzing social media(Instagram) data with Python & NLP"
     ]
    },
    {
     "cell_type": "heading",
     "level": 2,
     "metadata": {},
     "source": [
      "By: Sunil Kumar"
     ]
    },
    {
     "cell_type": "heading",
     "level": 3,
     "metadata": {},
     "source": [
      ""
     ]
    },
    {
     "cell_type": "heading",
     "level": 3,
     "metadata": {},
     "source": [
      ""
     ]
    },
    {
     "cell_type": "heading",
     "level": 3,
     "metadata": {},
     "source": [
      ""
     ]
    },
    {
     "cell_type": "heading",
     "level": 3,
     "metadata": {},
     "source": [
      "-------------------------------------------"
     ]
    },
    {
     "cell_type": "heading",
     "level": 2,
     "metadata": {},
     "source": [
      "Using the requests library"
     ]
    },
    {
     "cell_type": "code",
     "collapsed": false,
     "input": [
      "import requests\n",
      "response = requests.get(\"http://isitlunchtimeyet.com/\", auth=('fheisler', 'passw0rd'))\n",
      "response"
     ],
     "language": "python",
     "metadata": {},
     "outputs": [
      {
       "metadata": {},
       "output_type": "pyout",
       "prompt_number": 2,
       "text": [
        "<Response [200]>"
       ]
      }
     ],
     "prompt_number": 2
    },
    {
     "cell_type": "code",
     "collapsed": false,
     "input": [
      "print response.text"
     ],
     "language": "python",
     "metadata": {},
     "outputs": [
      {
       "output_type": "stream",
       "stream": "stdout",
       "text": [
        "<html>\n",
        "    <head>\n",
        "        <script type=\"text/javascript\" src=\"isit.js\"></script>\n",
        "        <link rel=\"stylesheet\" type=\"text/css\" href=\"s.css\" />\n",
        "        <title>Is it lunch time yet?</title>\n",
        "    </head>\n",
        "    <body>\n",
        "        <div>by <a href=\"http://www.butterfat.net/\">Butterfat, LLC</a></div>\n",
        "    </body>\n",
        "</html>\n",
        "\n",
        "\n"
       ]
      }
     ],
     "prompt_number": 3
    },
    {
     "cell_type": "heading",
     "level": 2,
     "metadata": {},
     "source": [
      "Writing custom API clients"
     ]
    },
    {
     "cell_type": "code",
     "collapsed": false,
     "input": [
      "import requests\n",
      "\n",
      "\n",
      "class RateLimitError(Exception):\n",
      "    pass\n",
      "\n",
      "class ClientError(Exception):\n",
      "    pass\n",
      "\n",
      "class APIClient(object):\n",
      "    \"\"\"\n",
      "    A generic API client to handle interaction using the\n",
      "    requests module; throw specific errors based on various responses\n",
      "    \"\"\"\n",
      "\n",
      "    # Should be overwritten by implementations, i.e. HTTPError=FacebookHTTPError\n",
      "    HTTPError = requests.exceptions.HTTPError\n",
      "    ConnectionError = requests.exceptions.ConnectionError\n",
      "    Error = ClientError\n",
      "    RateLimitError = RateLimitError\n",
      "\n",
      "    def __init__(self):\n",
      "        \"\"\" Throw exceptions if BASE_URI or BASE_PARAMS are not set \"\"\"\n",
      "        if not hasattr(self, 'BASE_URI'):\n",
      "            raise NotImplementedError('Must specify a base uri')\n",
      "        if not hasattr(self, 'BASE_PARAMS'):\n",
      "            raise NotImplementedError('Must specify base params')\n",
      "\n",
      "    def _validate_response(self, response):\n",
      "        \"\"\" Optional response validation \"\"\"\n",
      "        pass\n",
      "\n",
      "    def _validate_error(self, response):\n",
      "        \"\"\"\n",
      "        Optional error validation, for when you want to raise a specific\n",
      "        exception, for example rate limit exceptions.\n",
      "        \"\"\"\n",
      "        pass\n",
      "\n",
      "    def _get(self, url, params={}, timeout=10, retries=3):\n",
      "        \"\"\"\n",
      "        Gets a response based on the url and params passed to it; \n",
      "        will retry 3 times if there is a connection error\n",
      "        \"\"\"\n",
      "        full_url = '{}/{}'.format(self.BASE_URI, url)\n",
      "        while retries > 0:\n",
      "            try:\n",
      "                if hasattr(self, 'BASE_PARAMS'):\n",
      "                    params.update(self.BASE_PARAMS)\n",
      "                response = requests.get(full_url, params=params)\n",
      "                try:\n",
      "                    response.raise_for_status()\n",
      "                    self._validate_response(response)\n",
      "                    return response\n",
      "                except requests.exceptions.HTTPError as e:\n",
      "                    self._validate_error(response)\n",
      "                    raise self.HTTPError(e)\n",
      "            except (requests.exceptions.ConnectionError,\n",
      "                    requests.exceptions.Timeout) as e:\n",
      "                retries -= 1\n",
      "                if not retries:\n",
      "                    raise self.ConnectionError(e)\n",
      "\n",
      "    def _json(self, response):\n",
      "        \"\"\" Try to convert the response to JSON \"\"\"\n",
      "        try:\n",
      "            return response.json()\n",
      "        except Exception as e:\n",
      "            raise self.Error(e)"
     ],
     "language": "python",
     "metadata": {},
     "outputs": [],
     "prompt_number": 4
    },
    {
     "cell_type": "markdown",
     "metadata": {},
     "source": [
      "###Key lessons learned:\n",
      "- Include specific errors for logging\n",
      "- Prepare for slow and unreliable responses\n",
      "- Keep it DRY"
     ]
    },
    {
     "cell_type": "heading",
     "level": 2,
     "metadata": {},
     "source": [
      "Analyzing data"
     ]
    },
    {
     "cell_type": "code",
     "collapsed": false,
     "input": [
      "import pandas as pd\n",
      "import matplotlib.pyplot as plt"
     ],
     "language": "python",
     "metadata": {},
     "outputs": [],
     "prompt_number": 5
    },
    {
     "cell_type": "heading",
     "level": 3,
     "metadata": {},
     "source": [
      "Load in data via a file, database, clipboard..."
     ]
    },
    {
     "cell_type": "code",
     "collapsed": false,
     "input": [
      "!pwd\n",
      "!ls"
     ],
     "language": "python",
     "metadata": {},
     "outputs": [
      {
       "output_type": "stream",
       "stream": "stdout",
       "text": [
        "/Users/fheisler/pyohio\r\n"
       ]
      },
      {
       "output_type": "stream",
       "stream": "stdout",
       "text": [
        "PyOhio - Social media data analysis.ipynb instagram.db\r\n",
        "blog.csv                                  requirements.txt\r\n"
       ]
      }
     ],
     "prompt_number": 6
    },
    {
     "cell_type": "code",
     "collapsed": false,
     "input": [
      "import sqlite3\n",
      "\n",
      "# Import Instagram picture data from SQL table\n",
      "connection = sqlite3.connect('instagram.db')\n",
      "instagram_data = pd.io.sql.read_sql(\"SELECT * FROM instagram;\", con=connection)"
     ],
     "language": "python",
     "metadata": {},
     "outputs": [],
     "prompt_number": 7
    },
    {
     "cell_type": "heading",
     "level": 3,
     "metadata": {},
     "source": [
      "Summary statistics"
     ]
    },
    {
     "cell_type": "code",
     "collapsed": false,
     "input": [
      "instagram_data.head()"
     ],
     "language": "python",
     "metadata": {},
     "outputs": [
      {
       "html": [
        "<div style=\"max-height:1000px;max-width:1500px;overflow:auto;\">\n",
        "<table border=\"1\" class=\"dataframe\">\n",
        "  <thead>\n",
        "    <tr style=\"text-align: right;\">\n",
        "      <th></th>\n",
        "      <th>id</th>\n",
        "      <th>account</th>\n",
        "      <th>filter</th>\n",
        "      <th>likes</th>\n",
        "      <th>comments</th>\n",
        "      <th>caption</th>\n",
        "      <th>timestamp</th>\n",
        "    </tr>\n",
        "  </thead>\n",
        "  <tbody>\n",
        "    <tr>\n",
        "      <th>0</th>\n",
        "      <td> 31044</td>\n",
        "      <td> murphyoilusa</td>\n",
        "      <td> Valencia</td>\n",
        "      <td> 7</td>\n",
        "      <td> 0</td>\n",
        "      <td> Elvis is in the building at Murphy Express 855...</td>\n",
        "      <td> 140109 11:17</td>\n",
        "    </tr>\n",
        "    <tr>\n",
        "      <th>1</th>\n",
        "      <td> 32057</td>\n",
        "      <td> murphyoilusa</td>\n",
        "      <td>   Normal</td>\n",
        "      <td> 5</td>\n",
        "      <td> 0</td>\n",
        "      <td>                           Cool tanker! #murphyusa</td>\n",
        "      <td> 140129 11:40</td>\n",
        "    </tr>\n",
        "    <tr>\n",
        "      <th>2</th>\n",
        "      <td>  6359</td>\n",
        "      <td> murphyoilusa</td>\n",
        "      <td>     Rise</td>\n",
        "      <td> 6</td>\n",
        "      <td> 0</td>\n",
        "      <td>                            Looking up! #murphyusa</td>\n",
        "      <td> 121205 12:11</td>\n",
        "    </tr>\n",
        "    <tr>\n",
        "      <th>3</th>\n",
        "      <td>  6347</td>\n",
        "      <td> murphyoilusa</td>\n",
        "      <td>     Hefe</td>\n",
        "      <td> 4</td>\n",
        "      <td> 0</td>\n",
        "      <td>                   Quick Strike Energy! #murphyusa</td>\n",
        "      <td> 121205 12:23</td>\n",
        "    </tr>\n",
        "    <tr>\n",
        "      <th>4</th>\n",
        "      <td>  6351</td>\n",
        "      <td> murphyoilusa</td>\n",
        "      <td> X-Pro II</td>\n",
        "      <td> 4</td>\n",
        "      <td> 0</td>\n",
        "      <td>            Look out, it's Super Murph! #murphyusa</td>\n",
        "      <td> 121205 12:16</td>\n",
        "    </tr>\n",
        "  </tbody>\n",
        "</table>\n",
        "</div>"
       ],
       "metadata": {},
       "output_type": "pyout",
       "prompt_number": 8,
       "text": [
        "      id       account    filter  likes  comments  \\\n",
        "0  31044  murphyoilusa  Valencia      7         0   \n",
        "1  32057  murphyoilusa    Normal      5         0   \n",
        "2   6359  murphyoilusa      Rise      6         0   \n",
        "3   6347  murphyoilusa      Hefe      4         0   \n",
        "4   6351  murphyoilusa  X-Pro II      4         0   \n",
        "\n",
        "                                             caption     timestamp  \n",
        "0  Elvis is in the building at Murphy Express 855...  140109 11:17  \n",
        "1                            Cool tanker! #murphyusa  140129 11:40  \n",
        "2                             Looking up! #murphyusa  121205 12:11  \n",
        "3                    Quick Strike Energy! #murphyusa  121205 12:23  \n",
        "4             Look out, it's Super Murph! #murphyusa  121205 12:16  "
       ]
      }
     ],
     "prompt_number": 8
    },
    {
     "cell_type": "code",
     "collapsed": false,
     "input": [
      "instagram_data.dtypes"
     ],
     "language": "python",
     "metadata": {},
     "outputs": [
      {
       "metadata": {},
       "output_type": "pyout",
       "prompt_number": 9,
       "text": [
        "id            int64\n",
        "account      object\n",
        "filter       object\n",
        "likes         int64\n",
        "comments      int64\n",
        "caption      object\n",
        "timestamp    object\n",
        "dtype: object"
       ]
      }
     ],
     "prompt_number": 9
    },
    {
     "cell_type": "code",
     "collapsed": false,
     "input": [
      "instagram_data.describe()"
     ],
     "language": "python",
     "metadata": {},
     "outputs": [
      {
       "html": [
        "<div style=\"max-height:1000px;max-width:1500px;overflow:auto;\">\n",
        "<table border=\"1\" class=\"dataframe\">\n",
        "  <thead>\n",
        "    <tr style=\"text-align: right;\">\n",
        "      <th></th>\n",
        "      <th>id</th>\n",
        "      <th>likes</th>\n",
        "      <th>comments</th>\n",
        "    </tr>\n",
        "  </thead>\n",
        "  <tbody>\n",
        "    <tr>\n",
        "      <th>count</th>\n",
        "      <td> 34575.000000</td>\n",
        "      <td>  34575.000000</td>\n",
        "      <td> 34575.000000</td>\n",
        "    </tr>\n",
        "    <tr>\n",
        "      <th>mean</th>\n",
        "      <td> 21677.659205</td>\n",
        "      <td>   3690.893304</td>\n",
        "      <td>    50.993955</td>\n",
        "    </tr>\n",
        "    <tr>\n",
        "      <th>std</th>\n",
        "      <td> 10841.855251</td>\n",
        "      <td>  13330.935345</td>\n",
        "      <td>   218.687328</td>\n",
        "    </tr>\n",
        "    <tr>\n",
        "      <th>min</th>\n",
        "      <td>  3451.000000</td>\n",
        "      <td>      0.000000</td>\n",
        "      <td>     0.000000</td>\n",
        "    </tr>\n",
        "    <tr>\n",
        "      <th>25%</th>\n",
        "      <td> 12272.500000</td>\n",
        "      <td>     31.000000</td>\n",
        "      <td>     0.000000</td>\n",
        "    </tr>\n",
        "    <tr>\n",
        "      <th>50%</th>\n",
        "      <td> 20929.000000</td>\n",
        "      <td>    208.000000</td>\n",
        "      <td>     4.000000</td>\n",
        "    </tr>\n",
        "    <tr>\n",
        "      <th>75%</th>\n",
        "      <td> 31439.500000</td>\n",
        "      <td>   1297.000000</td>\n",
        "      <td>    21.000000</td>\n",
        "    </tr>\n",
        "    <tr>\n",
        "      <th>max</th>\n",
        "      <td> 40191.000000</td>\n",
        "      <td> 260107.000000</td>\n",
        "      <td> 12567.000000</td>\n",
        "    </tr>\n",
        "  </tbody>\n",
        "</table>\n",
        "</div>"
       ],
       "metadata": {},
       "output_type": "pyout",
       "prompt_number": 10,
       "text": [
        "                 id          likes      comments\n",
        "count  34575.000000   34575.000000  34575.000000\n",
        "mean   21677.659205    3690.893304     50.993955\n",
        "std    10841.855251   13330.935345    218.687328\n",
        "min     3451.000000       0.000000      0.000000\n",
        "25%    12272.500000      31.000000      0.000000\n",
        "50%    20929.000000     208.000000      4.000000\n",
        "75%    31439.500000    1297.000000     21.000000\n",
        "max    40191.000000  260107.000000  12567.000000"
       ]
      }
     ],
     "prompt_number": 10
    },
    {
     "cell_type": "code",
     "collapsed": false,
     "input": [
      "instagram_data['social_actions'] = instagram_data.likes + instagram_data.comments\n",
      "instagram_data['social_actions'].median()"
     ],
     "language": "python",
     "metadata": {},
     "outputs": [
      {
       "metadata": {},
       "output_type": "pyout",
       "prompt_number": 11,
       "text": [
        "215.0"
       ]
      }
     ],
     "prompt_number": 11
    },
    {
     "cell_type": "heading",
     "level": 3,
     "metadata": {},
     "source": [
      "Visualize the data"
     ]
    },
    {
     "cell_type": "code",
     "collapsed": false,
     "input": [
      "instagram_data.social_actions.hist(bins=50);"
     ],
     "language": "python",
     "metadata": {},
     "outputs": [
      {
       "metadata": {},
       "output_type": "display_data",
       "png": "[encoded data removed]",
       "text": [
        "<matplotlib.figure.Figure at 0x112eb6d10>"
       ]
      }
     ],
     "prompt_number": 12
    },
    {
     "cell_type": "code",
     "collapsed": false,
     "input": [
      "instagram_data[instagram_data.social_actions > 50000].social_actions.hist(bins=50)\n",
      "plt.title(\"Distribution of social actions (50k+)\")\n",
      "plt.ylabel(\"Total likes + comments\")\n",
      "plt.xlabel(\"Number of Instagram pictures\");"
     ],
     "language": "python",
     "metadata": {},
     "outputs": [
      {
       "metadata": {},
       "output_type": "display_data",
       "png": "[encoded data removed]",
       "text": [
        "<matplotlib.figure.Figure at 0x114b5ca90>"
       ]
      }
     ],
     "prompt_number": 13
    },
    {
     "cell_type": "heading",
     "level": 3,
     "metadata": {},
     "source": [
      "Explore top lists"
     ]
    },
    {
     "cell_type": "code",
     "collapsed": false,
     "input": [
      "# Top 10 filters by usage\n",
      "top_filters = instagram_data.groupby('filter').size().order(ascending=False)\n",
      "(100 * top_filters / float(sum(top_filters)))[:10]"
     ],
     "language": "python",
     "metadata": {},
     "outputs": [
      {
       "metadata": {},
       "output_type": "pyout",
       "prompt_number": 14,
       "text": [
        "filter\n",
        "Normal      58.522054\n",
        "Lo-fi        5.512654\n",
        "Amaro        5.055676\n",
        "Mayfair      4.937093\n",
        "Valencia     4.827187\n",
        "X-Pro II     4.043384\n",
        "Rise         3.704989\n",
        "Hudson       3.271150\n",
        "Hefe         2.111352\n",
        "Sierra       1.512654\n",
        "dtype: float64"
       ]
      }
     ],
     "prompt_number": 14
    },
    {
     "cell_type": "code",
     "collapsed": false,
     "input": [
      "# Top 10 filters by social engagement\n",
      "social_actions = instagram_data.groupby('filter').social_actions\n",
      "(social_actions.sum() / social_actions.count()).order(ascending=False)[:10]"
     ],
     "language": "python",
     "metadata": {},
     "outputs": [
      {
       "metadata": {},
       "output_type": "pyout",
       "prompt_number": 15,
       "text": [
        "filter\n",
        "Normal      5285.500198\n",
        "Willow      3827.500000\n",
        "Sierra      2721.579350\n",
        "Valencia    2259.502097\n",
        "Amaro       2176.354119\n",
        "Hudson      1932.223696\n",
        "Mayfair     1900.403632\n",
        "1977        1476.029851\n",
        "Rise        1305.064793\n",
        "Lo-fi       1174.589192\n",
        "Name: social_actions, dtype: float64"
       ]
      }
     ],
     "prompt_number": 15
    },
    {
     "cell_type": "code",
     "collapsed": false,
     "input": [
      "# Top pics using Willow and Sierra filter\n",
      "filter_top_filters = instagram_data['filter'].isin([\"Willow\", \"Sierra\"])\n",
      "instagram_data[filter_top_filters].sort('social_actions', ascending=False)[:10]"
     ],
     "language": "python",
     "metadata": {},
     "outputs": [
      {
       "html": [
        "<div style=\"max-height:1000px;max-width:1500px;overflow:auto;\">\n",
        "<table border=\"1\" class=\"dataframe\">\n",
        "  <thead>\n",
        "    <tr style=\"text-align: right;\">\n",
        "      <th></th>\n",
        "      <th>id</th>\n",
        "      <th>account</th>\n",
        "      <th>filter</th>\n",
        "      <th>likes</th>\n",
        "      <th>comments</th>\n",
        "      <th>caption</th>\n",
        "      <th>timestamp</th>\n",
        "      <th>social_actions</th>\n",
        "    </tr>\n",
        "  </thead>\n",
        "  <tbody>\n",
        "    <tr>\n",
        "      <th>10658</th>\n",
        "      <td> 31537</td>\n",
        "      <td>      nike</td>\n",
        "      <td> Sierra</td>\n",
        "      <td> 177037</td>\n",
        "      <td> 3242</td>\n",
        "      <td>        Finish the season on your terms. #justdoit</td>\n",
        "      <td> 140119 22:18</td>\n",
        "      <td> 180279</td>\n",
        "    </tr>\n",
        "    <tr>\n",
        "      <th>11182</th>\n",
        "      <td> 26766</td>\n",
        "      <td>      nike</td>\n",
        "      <td> Sierra</td>\n",
        "      <td> 106291</td>\n",
        "      <td>  567</td>\n",
        "      <td> There's only one receiver who's always open.@u...</td>\n",
        "      <td> 131027 18:29</td>\n",
        "      <td> 106858</td>\n",
        "    </tr>\n",
        "    <tr>\n",
        "      <th>11180</th>\n",
        "      <td> 26705</td>\n",
        "      <td>      nike</td>\n",
        "      <td> Sierra</td>\n",
        "      <td> 103974</td>\n",
        "      <td>  370</td>\n",
        "      <td> No gym. No trainer. No excuse. #justdoit@nikew...</td>\n",
        "      <td> 131025 19:11</td>\n",
        "      <td> 104344</td>\n",
        "    </tr>\n",
        "    <tr>\n",
        "      <th>17631</th>\n",
        "      <td> 30798</td>\n",
        "      <td> starbucks</td>\n",
        "      <td> Sierra</td>\n",
        "      <td>  92508</td>\n",
        "      <td>  844</td>\n",
        "      <td> Sometimes you just need to stay in. #Cozy #Cof...</td>\n",
        "      <td> 140103 13:08</td>\n",
        "      <td>  93352</td>\n",
        "    </tr>\n",
        "    <tr>\n",
        "      <th>11175</th>\n",
        "      <td> 22369</td>\n",
        "      <td>      nike</td>\n",
        "      <td> Sierra</td>\n",
        "      <td>  90401</td>\n",
        "      <td>  408</td>\n",
        "      <td> Make your next run your best run.The @nikerunn...</td>\n",
        "      <td> 130912 12:59</td>\n",
        "      <td>  90809</td>\n",
        "    </tr>\n",
        "    <tr>\n",
        "      <th>17274</th>\n",
        "      <td> 28780</td>\n",
        "      <td> starbucks</td>\n",
        "      <td> Sierra</td>\n",
        "      <td>  88863</td>\n",
        "      <td>  312</td>\n",
        "      <td> A little piece of home at 37,000 ft.#starbucks...</td>\n",
        "      <td> 131127 14:27</td>\n",
        "      <td>  89175</td>\n",
        "    </tr>\n",
        "    <tr>\n",
        "      <th>11220</th>\n",
        "      <td>  7477</td>\n",
        "      <td>      nike</td>\n",
        "      <td> Sierra</td>\n",
        "      <td>  85967</td>\n",
        "      <td>  536</td>\n",
        "      <td> A hist\ufffdria n\ufffdo se escreve sozinha.History does...</td>\n",
        "      <td> 130625 12:04</td>\n",
        "      <td>  86503</td>\n",
        "    </tr>\n",
        "    <tr>\n",
        "      <th>17248</th>\n",
        "      <td> 24237</td>\n",
        "      <td> starbucks</td>\n",
        "      <td> Sierra</td>\n",
        "      <td>  74336</td>\n",
        "      <td>  310</td>\n",
        "      <td> Follow your #heart. Celebrate what you #love. ...</td>\n",
        "      <td> 130930 14:52</td>\n",
        "      <td>  74646</td>\n",
        "    </tr>\n",
        "    <tr>\n",
        "      <th>17558</th>\n",
        "      <td> 25366</td>\n",
        "      <td> starbucks</td>\n",
        "      <td> Willow</td>\n",
        "      <td>  73481</td>\n",
        "      <td>  273</td>\n",
        "      <td> Let weather be your excuse to #slowdown and #s...</td>\n",
        "      <td> 131017 16:07</td>\n",
        "      <td>  73754</td>\n",
        "    </tr>\n",
        "    <tr>\n",
        "      <th>17237</th>\n",
        "      <td> 29043</td>\n",
        "      <td> starbucks</td>\n",
        "      <td> Willow</td>\n",
        "      <td>  67709</td>\n",
        "      <td>  226</td>\n",
        "      <td>              Perfect cup. #PourOver #Coffee #Love</td>\n",
        "      <td> 131204 13:31</td>\n",
        "      <td>  67935</td>\n",
        "    </tr>\n",
        "  </tbody>\n",
        "</table>\n",
        "</div>"
       ],
       "metadata": {},
       "output_type": "pyout",
       "prompt_number": 16,
       "text": [
        "          id    account  filter   likes  comments  \\\n",
        "10658  31537       nike  Sierra  177037      3242   \n",
        "11182  26766       nike  Sierra  106291       567   \n",
        "11180  26705       nike  Sierra  103974       370   \n",
        "17631  30798  starbucks  Sierra   92508       844   \n",
        "11175  22369       nike  Sierra   90401       408   \n",
        "17274  28780  starbucks  Sierra   88863       312   \n",
        "11220   7477       nike  Sierra   85967       536   \n",
        "17248  24237  starbucks  Sierra   74336       310   \n",
        "17558  25366  starbucks  Willow   73481       273   \n",
        "17237  29043  starbucks  Willow   67709       226   \n",
        "\n",
        "                                                 caption     timestamp  \\\n",
        "10658         Finish the season on your terms. #justdoit  140119 22:18   \n",
        "11182  There's only one receiver who's always open.@u...  131027 18:29   \n",
        "11180  No gym. No trainer. No excuse. #justdoit@nikew...  131025 19:11   \n",
        "17631  Sometimes you just need to stay in. #Cozy #Cof...  140103 13:08   \n",
        "11175  Make your next run your best run.The @nikerunn...  130912 12:59   \n",
        "17274  A little piece of home at 37,000 ft.#starbucks...  131127 14:27   \n",
        "11220  A hist\ufffdria n\ufffdo se escreve sozinha.History does...  130625 12:04   \n",
        "17248  Follow your #heart. Celebrate what you #love. ...  130930 14:52   \n",
        "17558  Let weather be your excuse to #slowdown and #s...  131017 16:07   \n",
        "17237               Perfect cup. #PourOver #Coffee #Love  131204 13:31   \n",
        "\n",
        "       social_actions  \n",
        "10658          180279  \n",
        "11182          106858  \n",
        "11180          104344  \n",
        "17631           93352  \n",
        "11175           90809  \n",
        "17274           89175  \n",
        "11220           86503  \n",
        "17248           74646  \n",
        "17558           73754  \n",
        "17237           67935  "
       ]
      }
     ],
     "prompt_number": 16
    },
    {
     "cell_type": "code",
     "collapsed": false,
     "input": [
      "# Most engaging Instagram posters\n",
      "posters = instagram_data.groupby('account').social_actions\n",
      "top_posters = (posters.sum() / posters.count()).order(ascending=False)\n",
      "top_posters[:5]"
     ],
     "language": "python",
     "metadata": {},
     "outputs": [
      {
       "metadata": {},
       "output_type": "pyout",
       "prompt_number": 17,
       "text": [
        "account\n",
        "starbucks     47178.250000\n",
        "nike          41012.822034\n",
        "disney        20712.481390\n",
        "footlocker    20349.083185\n",
        "apple         14354.261905\n",
        "Name: social_actions, dtype: float64"
       ]
      }
     ],
     "prompt_number": 17
    },
    {
     "cell_type": "code",
     "collapsed": false,
     "input": [
      "# Average number of hashtags used by top brands\n",
      "instagram_data['num_hashtags'] = instagram_data.caption.str.count(\"#\")\n",
      "tag_counts = instagram_data.groupby('account').num_hashtags\n",
      "avg_tags = (tag_counts.sum() / tag_counts.count())\n",
      "pd.concat([top_posters, avg_tags], axis=1).sort('social_actions', ascending=False).num_hashtags[:5]"
     ],
     "language": "python",
     "metadata": {},
     "outputs": [
      {
       "metadata": {},
       "output_type": "pyout",
       "prompt_number": 18,
       "text": [
        "starbucks     1.774554\n",
        "nike          1.241525\n",
        "disney        0.620347\n",
        "footlocker    1.899584\n",
        "apple         0.619048\n",
        "Name: num_hashtags, dtype: float64"
       ]
      }
     ],
     "prompt_number": 18
    },
    {
     "cell_type": "code",
     "collapsed": false,
     "input": [
      "# Plot most effective number of hashtags\n",
      "tag_effect = instagram_data.groupby('num_hashtags').social_actions\n",
      "plt.plot((tag_effect.sum() / tag_effect.count())[:5]);\n",
      "plt.ylabel(\"Average number of likes + comments\");\n",
      "plt.xlabel(\"Number of hashtags used\");"
     ],
     "language": "python",
     "metadata": {},
     "outputs": [
      {
       "metadata": {},
       "output_type": "display_data",
       "png": "[encoded data removed]",
       "text": [
        "<matplotlib.figure.Figure at 0x114ee6b90>"
       ]
      }
     ],
     "prompt_number": 19
    },
    {
     "cell_type": "code",
     "collapsed": false,
     "input": [
      "# Biggest hashtags users\n",
      "avg_tags.order(ascending=False)[:5]"
     ],
     "language": "python",
     "metadata": {},
     "outputs": [
      {
       "metadata": {},
       "output_type": "pyout",
       "prompt_number": 20,
       "text": [
        "account\n",
        "ross_stores           29.978723\n",
        "goavisbudget          18.104478\n",
        "comcast_xfinity       12.000000\n",
        "gamestop_worldwide     9.115385\n",
        "costco_wholesale       7.326531\n",
        "Name: num_hashtags, dtype: float64"
       ]
      }
     ],
     "prompt_number": 20
    },
    {
     "cell_type": "code",
     "collapsed": false,
     "input": [
      "# Find the best day of week to post\n",
      "import arrow\n",
      "\n",
      "# Create an Arrow timestamp\n",
      "instagram_data['day'] = instagram_data.timestamp.apply(arrow.get, args=(\"YYMMDD HH:mm\",))\n",
      "\n",
      "# Format to day of week, 1 through 7\n",
      "instagram_data.day = instagram_data.day.apply(format, args=(\"d\",))\n",
      "\n",
      "dow_effect = instagram_data.groupby('day').social_actions\n",
      "(dow_effect.sum() / dow_effect.count()).plot(kind='bar');\n",
      "plt.ylabel(\"Avg likes + comments\");\n",
      "plt.xticks(range(7), (\"Mon\", \"Tue\", \"Wed\", \"Thu\", \"Fri\", \"Sat\", \"Sun\"));"
     ],
     "language": "python",
     "metadata": {},
     "outputs": [
      {
       "metadata": {},
       "output_type": "display_data",
       "png": "[encoded data removed]",
       "text": [
        "<matplotlib.figure.Figure at 0x115b0de50>"
       ]
      }
     ],
     "prompt_number": 21
    },
    {
     "cell_type": "heading",
     "level": 2,
     "metadata": {},
     "source": [
      "Text Analysis"
     ]
    },
    {
     "cell_type": "code",
     "collapsed": false,
     "input": [
      "import nltk"
     ],
     "language": "python",
     "metadata": {},
     "outputs": [],
     "prompt_number": 22
    },
    {
     "cell_type": "code",
     "collapsed": false,
     "input": [
      "# Import blog data from CSV file\n",
      "blog_data = pd.read_csv(\"blog.csv\")"
     ],
     "language": "python",
     "metadata": {},
     "outputs": [],
     "prompt_number": 23
    },
    {
     "cell_type": "code",
     "collapsed": false,
     "input": [
      "blog_data.head()"
     ],
     "language": "python",
     "metadata": {},
     "outputs": [
      {
       "html": [
        "<div style=\"max-height:1000px;max-width:1500px;overflow:auto;\">\n",
        "<table border=\"1\" class=\"dataframe\">\n",
        "  <thead>\n",
        "    <tr style=\"text-align: right;\">\n",
        "      <th></th>\n",
        "      <th>id</th>\n",
        "      <th>title</th>\n",
        "      <th>summary</th>\n",
        "      <th>timestamp</th>\n",
        "      <th>fb_likes</th>\n",
        "      <th>fb_shares</th>\n",
        "      <th>linkedin_shares</th>\n",
        "      <th>pins</th>\n",
        "      <th>tweets</th>\n",
        "    </tr>\n",
        "  </thead>\n",
        "  <tbody>\n",
        "    <tr>\n",
        "      <th>0</th>\n",
        "      <td>  6902</td>\n",
        "      <td> 15 Things You Probably Didn't Know About 'Good...</td>\n",
        "      <td> &lt;p&gt;&amp;#8220;YOU LIKE APPLES?&amp;#8221;&lt;/p&gt;         ...</td>\n",
        "      <td> 131121 18:45</td>\n",
        "      <td> 2910</td>\n",
        "      <td> 1353</td>\n",
        "      <td> 1</td>\n",
        "      <td> 30</td>\n",
        "      <td> 256</td>\n",
        "    </tr>\n",
        "    <tr>\n",
        "      <th>1</th>\n",
        "      <td> 10924</td>\n",
        "      <td> New Footage Of Baby Lil Bub Is Just As Magical...</td>\n",
        "      <td> &lt;p&gt;Be still my heart.&lt;/p&gt;                     ...</td>\n",
        "      <td> 140117 12:30</td>\n",
        "      <td>  408</td>\n",
        "      <td>  431</td>\n",
        "      <td> 0</td>\n",
        "      <td> 55</td>\n",
        "      <td>  92</td>\n",
        "    </tr>\n",
        "    <tr>\n",
        "      <th>2</th>\n",
        "      <td> 10922</td>\n",
        "      <td> 15 Iconic People You Had No Idea Were The Same...</td>\n",
        "      <td> &lt;p&gt;MIND. BLOWN.&lt;/p&gt;                           ...</td>\n",
        "      <td> 140117 10:00</td>\n",
        "      <td> 1114</td>\n",
        "      <td>  833</td>\n",
        "      <td> 4</td>\n",
        "      <td> 28</td>\n",
        "      <td> 237</td>\n",
        "    </tr>\n",
        "    <tr>\n",
        "      <th>3</th>\n",
        "      <td> 10921</td>\n",
        "      <td> Activist Gives Speech Inside Mitch McConnell's...</td>\n",
        "      <td> &lt;p&gt;&amp;#8220;So I&amp;rsquo;m asking you the million ...</td>\n",
        "      <td> 140117 11:00</td>\n",
        "      <td> 1589</td>\n",
        "      <td>  590</td>\n",
        "      <td> 2</td>\n",
        "      <td>  1</td>\n",
        "      <td> 202</td>\n",
        "    </tr>\n",
        "    <tr>\n",
        "      <th>4</th>\n",
        "      <td> 10545</td>\n",
        "      <td> The Definitive 2014 Golden Globes Eyewear Ranking</td>\n",
        "      <td> &lt;p&gt;Matt Damon was &amp;#8220;the garbage man who d...</td>\n",
        "      <td> 140113 19:30</td>\n",
        "      <td>  259</td>\n",
        "      <td>  184</td>\n",
        "      <td> 7</td>\n",
        "      <td> 11</td>\n",
        "      <td> 111</td>\n",
        "    </tr>\n",
        "  </tbody>\n",
        "</table>\n",
        "</div>"
       ],
       "metadata": {},
       "output_type": "pyout",
       "prompt_number": 24,
       "text": [
        "      id                                              title  \\\n",
        "0   6902  15 Things You Probably Didn't Know About 'Good...   \n",
        "1  10924  New Footage Of Baby Lil Bub Is Just As Magical...   \n",
        "2  10922  15 Iconic People You Had No Idea Were The Same...   \n",
        "3  10921  Activist Gives Speech Inside Mitch McConnell's...   \n",
        "4  10545  The Definitive 2014 Golden Globes Eyewear Ranking   \n",
        "\n",
        "                                             summary     timestamp  fb_likes  \\\n",
        "0  <p>&#8220;YOU LIKE APPLES?&#8221;</p>         ...  131121 18:45      2910   \n",
        "1  <p>Be still my heart.</p>                     ...  140117 12:30       408   \n",
        "2  <p>MIND. BLOWN.</p>                           ...  140117 10:00      1114   \n",
        "3  <p>&#8220;So I&rsquo;m asking you the million ...  140117 11:00      1589   \n",
        "4  <p>Matt Damon was &#8220;the garbage man who d...  140113 19:30       259   \n",
        "\n",
        "   fb_shares  linkedin_shares  pins  tweets  \n",
        "0       1353                1    30     256  \n",
        "1        431                0    55      92  \n",
        "2        833                4    28     237  \n",
        "3        590                2     1     202  \n",
        "4        184                7    11     111  "
       ]
      }
     ],
     "prompt_number": 24
    },
    {
     "cell_type": "code",
     "collapsed": false,
     "input": [
      "# Clean up HTML tags (not quite safe!)\n",
      "import re\n",
      "\n",
      "blog_data.summary = blog_data.summary.apply(lambda s: re.sub(\"<[^<]+?>\", \"\", s))\n",
      "\n",
      "# Remove multiple spaces\n",
      "blog_data.summary = blog_data.summary.apply(lambda s: re.sub(' +', ' ', s))\n",
      "\n",
      "# Remove leading and trailing spaces\n",
      "blog_data.title = blog_data.title.apply(lambda t: t.strip())\n",
      "blog_data.summary = blog_data.summary.apply(lambda s: s.strip())"
     ],
     "language": "python",
     "metadata": {},
     "outputs": [],
     "prompt_number": 25
    },
    {
     "cell_type": "code",
     "collapsed": false,
     "input": [
      "# Decode HTML entities\n",
      "from lxml import html\n",
      "\n",
      "blog_data.summary = blog_data.summary.apply(lambda s: html.fromstring(s).text)"
     ],
     "language": "python",
     "metadata": {},
     "outputs": [],
     "prompt_number": 26
    },
    {
     "cell_type": "code",
     "collapsed": false,
     "input": [
      "# Collapse social shares\n",
      "blog_data['shares'] = blog_data.fb_likes + blog_data.fb_shares + blog_data.linkedin_shares + blog_data.pins + blog_data.tweets\n",
      "blog_data = blog_data.drop(['fb_likes', 'fb_shares', 'linkedin_shares', 'pins', 'tweets'], axis=1);"
     ],
     "language": "python",
     "metadata": {},
     "outputs": [],
     "prompt_number": 27
    },
    {
     "cell_type": "code",
     "collapsed": false,
     "input": [
      "blog_data.shares.describe()"
     ],
     "language": "python",
     "metadata": {},
     "outputs": [
      {
       "metadata": {},
       "output_type": "pyout",
       "prompt_number": 28,
       "text": [
        "count      25188.000000\n",
        "mean        9532.819557\n",
        "std        51112.025280\n",
        "min           12.000000\n",
        "25%          391.000000\n",
        "50%         1194.000000\n",
        "75%         4251.000000\n",
        "max      3349344.000000\n",
        "dtype: float64"
       ]
      }
     ],
     "prompt_number": 28
    },
    {
     "cell_type": "code",
     "collapsed": false,
     "input": [
      "# Top performing blog post\n",
      "blog_data[blog_data.shares == blog_data.shares.max()]"
     ],
     "language": "python",
     "metadata": {},
     "outputs": [
      {
       "html": [
        "<div style=\"max-height:1000px;max-width:1500px;overflow:auto;\">\n",
        "<table border=\"1\" class=\"dataframe\">\n",
        "  <thead>\n",
        "    <tr style=\"text-align: right;\">\n",
        "      <th></th>\n",
        "      <th>id</th>\n",
        "      <th>title</th>\n",
        "      <th>summary</th>\n",
        "      <th>timestamp</th>\n",
        "      <th>shares</th>\n",
        "    </tr>\n",
        "  </thead>\n",
        "  <tbody>\n",
        "    <tr>\n",
        "      <th>5354</th>\n",
        "      <td> 12008</td>\n",
        "      <td> What Career Should You Actually Have?</td>\n",
        "      <td> Do what you love, love what you do.</td>\n",
        "      <td> 140130 23:30</td>\n",
        "      <td> 3349344</td>\n",
        "    </tr>\n",
        "  </tbody>\n",
        "</table>\n",
        "</div>"
       ],
       "metadata": {},
       "output_type": "pyout",
       "prompt_number": 29,
       "text": [
        "         id                                  title  \\\n",
        "5354  12008  What Career Should You Actually Have?   \n",
        "\n",
        "                                  summary     timestamp   shares  \n",
        "5354  Do what you love, love what you do.  140130 23:30  3349344  "
       ]
      }
     ],
     "prompt_number": 29
    },
    {
     "cell_type": "heading",
     "level": 3,
     "metadata": {},
     "source": [
      "Top words"
     ]
    },
    {
     "cell_type": "code",
     "collapsed": false,
     "input": [
      "title_word_bag = blog_data.title.apply(lambda t: t + \" \").sum()"
     ],
     "language": "python",
     "metadata": {},
     "outputs": [],
     "prompt_number": 30
    },
    {
     "cell_type": "code",
     "collapsed": false,
     "input": [
      "# Top 10 most common words\n",
      "from collections import Counter\n",
      "\n",
      "Counter(title_word_bag.split()).most_common()[:10]"
     ],
     "language": "python",
     "metadata": {},
     "outputs": [
      {
       "metadata": {},
       "output_type": "pyout",
       "prompt_number": 31,
       "text": [
        "[('The', 9423),\n",
        " ('To', 5390),\n",
        " ('Of', 5261),\n",
        " ('A', 5070),\n",
        " ('You', 4343),\n",
        " ('In', 3528),\n",
        " ('Is', 3206),\n",
        " ('This', 2638),\n",
        " ('And', 2555),\n",
        " ('That', 2363)]"
       ]
      }
     ],
     "prompt_number": 31
    },
    {
     "cell_type": "code",
     "collapsed": false,
     "input": [
      "# Top 10 most common non-stopwords\n",
      "stopwords = [unicode(word) for word in nltk.corpus.stopwords.words('english')]\n",
      "title_words = [word for word in title_word_bag.split() if word.lower() not in stopwords]\n",
      "Counter(title_words).most_common()[:10]"
     ],
     "language": "python",
     "metadata": {},
     "outputs": [
      {
       "output_type": "stream",
       "stream": "stderr",
       "text": [
        "-c:3: UnicodeWarning: Unicode equal comparison failed to convert both arguments to Unicode - interpreting them as being unequal\n"
       ]
      },
      {
       "metadata": {},
       "output_type": "pyout",
       "prompt_number": 32,
       "text": [
        "[('Things', 1543),\n",
        " ('New', 969),\n",
        " ('People', 879),\n",
        " ('Reasons', 833),\n",
        " ('Make', 810),\n",
        " ('21', 736),\n",
        " ('Best', 710),\n",
        " ('Like', 691),\n",
        " ('Know', 654),\n",
        " ('Ever', 632)]"
       ]
      }
     ],
     "prompt_number": 32
    },
    {
     "cell_type": "heading",
     "level": 3,
     "metadata": {},
     "source": [
      "Most common bigrams (pairs of words)"
     ]
    },
    {
     "cell_type": "code",
     "collapsed": false,
     "input": [
      "bigram_measures = nltk.collocations.BigramAssocMeasures()\n",
      "bigram_finder = nltk.collocations.BigramCollocationFinder.from_words(title_words)\n",
      "\n",
      "# Filter to only bigrams that appear 20+ times\n",
      "bigram_finder.apply_freq_filter(20)\n",
      "\n",
      "bigram_finder.score_ngrams(bigram_measures.raw_freq)[:10]"
     ],
     "language": "python",
     "metadata": {},
     "outputs": [
      {
       "metadata": {},
       "output_type": "pyout",
       "prompt_number": 33,
       "text": [
        "[(('World', 'Cup'), 0.0010484454085321765),\n",
        " (('Signs', \"You're\"), 0.0008797300554350446),\n",
        " ((\"Didn't\", 'Know'), 0.0008737045071101471),\n",
        " (('Daily', 'Links'), 0.000777295733911786),\n",
        " (('Look', 'Like'), 0.000777295733911786),\n",
        " (('New', 'York'), 0.0007712701855868884),\n",
        " (('Definitive', 'Ranking'), 0.0007531935406121957),\n",
        " (('Looks', 'Like'), 0.0007170402506628103),\n",
        " (('Miley', 'Cyrus'), 0.0006748614123885273),\n",
        " ((\"'Game\", \"Thrones'\"), 0.0006567847674138346)]"
       ]
      }
     ],
     "prompt_number": 33
    },
    {
     "cell_type": "heading",
     "level": 3,
     "metadata": {},
     "source": [
      "Most common bigram collocations"
     ]
    },
    {
     "cell_type": "code",
     "collapsed": false,
     "input": [
      "# Top 10 bigrams with the highest PMI (pointwise mutual information)\n",
      "bigram_finder.nbest(bigram_measures.pmi, 10)"
     ],
     "language": "python",
     "metadata": {},
     "outputs": [
      {
       "metadata": {},
       "output_type": "pyout",
       "prompt_number": 34,
       "text": [
        "[('Mariah', 'Carey'),\n",
        " (\"'Let\", \"Go'\"),\n",
        " (\"'Wrecking\", \"Ball'\"),\n",
        " ('Leonardo', 'DiCaprio'),\n",
        " ('Zac', 'Efron'),\n",
        " ('Amy', 'Poehler'),\n",
        " ('Jay', 'Z'),\n",
        " ('Fault', \"Stars'\"),\n",
        " ('Los', 'Angeles'),\n",
        " ('Fab', 'Drab')]"
       ]
      }
     ],
     "prompt_number": 34
    },
    {
     "cell_type": "heading",
     "level": 2,
     "metadata": {},
     "source": [
      "Regression Analysis"
     ]
    },
    {
     "cell_type": "heading",
     "level": 3,
     "metadata": {},
     "source": [
      "Identify features"
     ]
    },
    {
     "cell_type": "code",
     "collapsed": false,
     "input": [
      "# Examine \"top list\"-type posts; titles begin with a number\n",
      "blog_data['list_post'] = blog_data.title.apply(lambda t: t[0].isdigit())\n",
      "\n",
      "# How many posts are \"top list\" posts?\n",
      "float(blog_data.list_post.sum())/blog_data.list_post.count()"
     ],
     "language": "python",
     "metadata": {},
     "outputs": [
      {
       "metadata": {},
       "output_type": "pyout",
       "prompt_number": 35,
       "text": [
        "0.37156582499602986"
       ]
      }
     ],
     "prompt_number": 35
    },
    {
     "cell_type": "code",
     "collapsed": false,
     "input": [
      "# How effective are list-type posts?\n",
      "list_effect = blog_data.groupby('list_post').shares\n",
      "(list_effect.sum() / list_effect.count()).plot(kind='bar');\n",
      "plt.ylabel(\"Avg social shares\");"
     ],
     "language": "python",
     "metadata": {},
     "outputs": [
      {
       "metadata": {},
       "output_type": "display_data",
       "png": "[encoded data removed]",
       "text": [
        "<matplotlib.figure.Figure at 0x11402a9d0>"
       ]
      }
     ],
     "prompt_number": 36
    },
    {
     "cell_type": "code",
     "collapsed": false,
     "input": [
      "# Examine \"question\"-type posts; title ends with a \"?\"\n",
      "blog_data['question_post'] = blog_data.title.apply(lambda t: t[-1] is \"?\")\n",
      "\n",
      "# How many posts are \"question\" posts?\n",
      "float(blog_data.question_post.sum()) / blog_data.question_post.count()"
     ],
     "language": "python",
     "metadata": {},
     "outputs": [
      {
       "metadata": {},
       "output_type": "pyout",
       "prompt_number": 37,
       "text": [
        "0.06229156741305383"
       ]
      }
     ],
     "prompt_number": 37
    },
    {
     "cell_type": "code",
     "collapsed": false,
     "input": [
      "# How effective are question posts?\n",
      "question_effect = blog_data.groupby('question_post').shares\n",
      "(question_effect.sum() / question_effect.count()).plot(kind='bar')\n",
      "plt.ylabel(\"Avg social shares\");"
     ],
     "language": "python",
     "metadata": {},
     "outputs": [
      {
       "metadata": {},
       "output_type": "display_data",
       "png": "[encoded data removed]",
       "text": [
        "<matplotlib.figure.Figure at 0x118294b90>"
       ]
      }
     ],
     "prompt_number": 38
    },
    {
     "cell_type": "code",
     "collapsed": false,
     "input": [
      "# Do you want to find out what these amazing questions are?\n",
      "blog_data[blog_data.question_post].sort('shares', ascending=False).title[:10]\n"
     ],
     "language": "python",
     "metadata": {},
     "outputs": [
      {
       "metadata": {},
       "output_type": "pyout",
       "prompt_number": 39,
       "text": [
        "5354                 What Career Should You Actually Have?\n",
        "5174                             What Kind Of Dog Are You?\n",
        "11253                What State Do You Actually Belong In?\n",
        "4220               Which Decade Do You Actually Belong In?\n",
        "10968               What City Should You Actually Live In?\n",
        "12827                     Which Mythical Creature Are You?\n",
        "9128             QUIZ: What Food Matches Your Personality?\n",
        "12352    What Actress Would Play You In The Movie Versi...\n",
        "3641     Which European Country Do You Actually Belong In?\n",
        "4950           What Should Your College Major Actually Be?\n",
        "Name: title, dtype: object"
       ]
      }
     ],
     "prompt_number": 39
    },
    {
     "cell_type": "code",
     "collapsed": false,
     "input": [
      "blog_data['actually'] = blog_data.title.apply(lambda t: \"actually\" in t.lower())\n",
      "\n",
      "# How many posts are \"actually\" posts?\n",
      "float(blog_data.actually.sum()) / blog_data.actually.count()"
     ],
     "language": "python",
     "metadata": {},
     "outputs": [
      {
       "metadata": {},
       "output_type": "pyout",
       "prompt_number": 40,
       "text": [
        "0.021200571700809908"
       ]
      }
     ],
     "prompt_number": 40
    },
    {
     "cell_type": "code",
     "collapsed": false,
     "input": [
      "# But actually, how effective are they?\n",
      "actual_effect = blog_data.groupby('actually').shares\n",
      "(actual_effect.sum() / actual_effect.count()).plot(kind='bar')\n",
      "plt.ylabel(\"Avg social shares\");"
     ],
     "language": "python",
     "metadata": {},
     "outputs": [
      {
       "metadata": {},
       "output_type": "display_data",
       "png": "[encoded data removed]",
       "text": [
        "<matplotlib.figure.Figure at 0x115b0d490>"
       ]
      }
     ],
     "prompt_number": 41
    },
    {
     "cell_type": "code",
     "collapsed": false,
     "input": [
      "# Examine post title length\n",
      "blog_data['title_length'] = blog_data.title.apply(lambda t: len(t))\n",
      "\n",
      "# Distribution of title lengths\n",
      "blog_data.title_length.hist();\n",
      "plt.ylabel(\"Number of posts\");\n",
      "plt.xlabel(\"Number of characters in title\");"
     ],
     "language": "python",
     "metadata": {},
     "outputs": [
      {
       "metadata": {},
       "output_type": "display_data",
       "png": "[encoded data removed]",
       "text": [
        "<matplotlib.figure.Figure at 0x114b5c9d0>"
       ]
      }
     ],
     "prompt_number": 42
    },
    {
     "cell_type": "code",
     "collapsed": false,
     "input": [
      "# Most effective title lengths\n",
      "title_len_effect = blog_data.groupby('title_length').shares\n",
      "plt.plot((title_len_effect.sum() / title_len_effect.count()));\n",
      "plt.ylabel(\"Average shares\");\n",
      "plt.xlabel(\"Number of characters in title\");"
     ],
     "language": "python",
     "metadata": {},
     "outputs": [
      {
       "metadata": {},
       "output_type": "display_data",
       "png": "[encoded data removed]",
       "text": [
        "<matplotlib.figure.Figure at 0x11870edd0>"
       ]
      }
     ],
     "prompt_number": 43
    },
    {
     "cell_type": "code",
     "collapsed": false,
     "input": [
      "# Examine post summary length\n",
      "blog_data['summary_length'] = blog_data.summary.apply(lambda t: len(t))\n",
      "\n",
      "# Distribution of summary lengths\n",
      "blog_data.summary_length.hist(bins=50);\n",
      "plt.xlabel(\"Number of characters in summary\")\n",
      "plt.ylabel(\"Number of posts\");"
     ],
     "language": "python",
     "metadata": {},
     "outputs": [
      {
       "metadata": {},
       "output_type": "display_data",
       "png": "[encoded data removed]",
       "text": [
        "<matplotlib.figure.Figure at 0x11402a650>"
       ]
      }
     ],
     "prompt_number": 44
    },
    {
     "cell_type": "code",
     "collapsed": false,
     "input": [
      "# Highly skewed distribution; save a log-transformed summary length for later\n",
      "blog_data['summary_log_len'] = blog_data.summary_length.apply(log)\n",
      "blog_data.summary_log_len.hist();"
     ],
     "language": "python",
     "metadata": {},
     "outputs": [
      {
       "metadata": {},
       "output_type": "display_data",
       "png": "[encoded data removed]",
       "text": [
        "<matplotlib.figure.Figure at 0x118767910>"
       ]
      }
     ],
     "prompt_number": 45
    },
    {
     "cell_type": "code",
     "collapsed": false,
     "input": [
      "# Bin summary lengths\n",
      "bins = range(0, 3000, 100)\n",
      "blog_data['binned_summary_length'] = pd.cut(blog_data.summary_length, bins=bins, labels=bins[1:])\n"
     ],
     "language": "python",
     "metadata": {},
     "outputs": [],
     "prompt_number": 46
    },
    {
     "cell_type": "code",
     "collapsed": false,
     "input": [
      "# Most effective post summary lengths\n",
      "summary_len_effect = blog_data.groupby('binned_summary_length').shares\n",
      "plt.plot(bins[1:], summary_len_effect.sum() / summary_len_effect.count());\n",
      "plt.ylabel(\"Average shares\");\n",
      "plt.xlabel(\"Number of characters in summary\");"
     ],
     "language": "python",
     "metadata": {},
     "outputs": [
      {
       "metadata": {},
       "output_type": "display_data",
       "png": "[encoded data removed]",
       "text": [
        "<matplotlib.figure.Figure at 0x114c83450>"
       ]
      }
     ],
     "prompt_number": 47
    },
    {
     "cell_type": "code",
     "collapsed": false,
     "input": [
      "import arrow\n",
      "\n",
      "# Convert timestamp to arrow object for manipulation\n",
      "blog_data['timestamp'] = blog_data.timestamp.apply(arrow.get, args=(\"YYMMDD HH:mm\",))"
     ],
     "language": "python",
     "metadata": {},
     "outputs": [],
     "prompt_number": 48
    },
    {
     "cell_type": "code",
     "collapsed": false,
     "input": [
      "# Day of week distribution\n",
      "blog_data['dow'] = blog_data.timestamp.apply(lambda ts: int(ts.format('d')))\n",
      "blog_data.dow.hist(bins=7, range=(0,8));\n",
      "plt.ylabel(\"Total number of posts\")\n",
      "plt.xticks(range(8), (\"\", \"Mon\", \"Tue\", \"Wed\", \"Thu\", \"Fri\", \"Sat\", \"Sun\"));"
     ],
     "language": "python",
     "metadata": {},
     "outputs": [
      {
       "metadata": {},
       "output_type": "display_data",
       "png": "[encoded data removed]",
       "text": [
        "<matplotlib.figure.Figure at 0x118711cd0>"
       ]
      }
     ],
     "prompt_number": 49
    },
    {
     "cell_type": "code",
     "collapsed": false,
     "input": [
      "# Day of week effectiveness\n",
      "dow_effect = blog_data.groupby('dow').shares\n",
      "(dow_effect.sum() / dow_effect.count()).plot(kind='bar')\n",
      "plt.ylabel(\"Avg social shares\")\n",
      "plt.xticks(range(7), (\"Mon\", \"Tue\", \"Wed\", \"Thu\", \"Fri\", \"Sat\", \"Sun\"));"
     ],
     "language": "python",
     "metadata": {},
     "outputs": [
      {
       "metadata": {},
       "output_type": "display_data",
       "png": "[encoded data removed]",
       "text": [
        "<matplotlib.figure.Figure at 0x119941ed0>"
       ]
      }
     ],
     "prompt_number": 50
    },
    {
     "cell_type": "code",
     "collapsed": false,
     "input": [
      "# Time of day distribution (hourly)\n",
      "blog_data['tod'] = blog_data.timestamp.apply(lambda ts: int(ts.format('HH')))\n",
      "blog_data.tod.hist(bins=24, range=(0,24));\n",
      "plt.ylabel(\"Avg social shares\");\n",
      "plt.xlabel(\"Hour of day (ET)\");"
     ],
     "language": "python",
     "metadata": {},
     "outputs": [
      {
       "metadata": {},
       "output_type": "display_data",
       "png": "[encoded data removed]",
       "text": [
        "<matplotlib.figure.Figure at 0x1198e5690>"
       ]
      }
     ],
     "prompt_number": 51
    },
    {
     "cell_type": "code",
     "collapsed": false,
     "input": [
      "# Time of day effectiveness\n",
      "tod_effect = blog_data.groupby('tod').shares\n",
      "(tod_effect.sum() / tod_effect.count()).plot(kind='bar')\n",
      "plt.ylabel(\"Avg social shares\");"
     ],
     "language": "python",
     "metadata": {},
     "outputs": [
      {
       "metadata": {},
       "output_type": "display_data",
       "png": "[encoded data removed]",
       "text": [
        "<matplotlib.figure.Figure at 0x11402a950>"
       ]
      }
     ],
     "prompt_number": 52
    },
    {
     "cell_type": "code",
     "collapsed": false,
     "input": [
      "# Prepare readability scores based on Flesch-Kincaid Grade Level\n",
      "from re import match\n",
      "\n",
      "# Load Carnegie Mellon Pronouncing Dictionary\n",
      "cmu = nltk.corpus.cmudict.dict()\n",
      "\n",
      "def reduce_word(word):\n",
      "    return ''.join([x for x in word.lower() if match(r'\\w', x)])\n",
      "\n",
      "def get_syllable_count(word):\n",
      "    word = reduce_word(word)\n",
      "    if (not len(word)) or (not word in cmu):\n",
      "        return 0\n",
      "    return len([x for x in list(''.join(list(cmu[word])[-1])) if match(r'\\d', x)])\n",
      " \n",
      "def get_grade_level(text):\n",
      "    \"\"\"Flesch-Kincaid Grade Level formula\"\"\"\n",
      "    sentences = nltk.tokenize.sent_tokenize(text)\n",
      "    sentence_count = len(sentences)\n",
      "    word_count = 0\n",
      "    syllable_count = 0\n",
      "    for sentence in sentences:\n",
      "        words = nltk.tokenize.word_tokenize(sentence)\n",
      "        words = [reduce_word(word) for word in words]\n",
      "        words = [word for word in words if word != '']\n",
      "        word_count += len(words)\n",
      "        syllable_count += sum([get_syllable_count(word) for word in words])\n",
      "    if word_count is 0:\n",
      "        return 0\n",
      "    word_count = float(word_count)\n",
      "    return (0.39 * (word_count / sentence_count)\n",
      "            + 11.8 * (syllable_count / word_count)\n",
      "            - 15.59)\n",
      "\n",
      "blog_data['grade_level'] = blog_data.summary.apply(get_grade_level)"
     ],
     "language": "python",
     "metadata": {},
     "outputs": [],
     "prompt_number": 53
    },
    {
     "cell_type": "code",
     "collapsed": false,
     "input": [
      "# Distribution of summary grade-level scores\n",
      "blog_data.grade_level.hist(bins=30, range=(-10,20));\n",
      "blog_data.grade_level.describe()"
     ],
     "language": "python",
     "metadata": {},
     "outputs": [
      {
       "metadata": {},
       "output_type": "pyout",
       "prompt_number": 54,
       "text": [
        "count    25188.000000\n",
        "mean         5.098678\n",
        "std          3.986889\n",
        "min        -15.200000\n",
        "25%          2.589286\n",
        "50%          4.823333\n",
        "75%          7.430000\n",
        "max         53.571852\n",
        "dtype: float64"
       ]
      },
      {
       "metadata": {},
       "output_type": "display_data",
       "png": "[encoded data removed]",
       "text": [
        "<matplotlib.figure.Figure at 0x118e71fd0>"
       ]
      }
     ],
     "prompt_number": 54
    },
    {
     "cell_type": "code",
     "collapsed": false,
     "input": [
      "bins = range(-10, 20, 5)\n",
      "blog_data['binned_grade_level'] = pd.cut(blog_data.grade_level, bins=bins, labels=bins[1:])\n",
      "\n",
      "grade_lvl_effect = blog_data.groupby('binned_grade_level').shares\n",
      "plt.plot(bins[1:], grade_lvl_effect.sum() / grade_lvl_effect.count());\n",
      "plt.ylabel(\"Average shares\");\n",
      "plt.xlabel(\"Flesch-Kinkaid grade level\");"
     ],
     "language": "python",
     "metadata": {},
     "outputs": [
      {
       "metadata": {},
       "output_type": "display_data",
       "png": "[encoded data removed]",
       "text": [
        "<matplotlib.figure.Figure at 0x1184b1d50>"
       ]
      }
     ],
     "prompt_number": 55
    },
    {
     "cell_type": "code",
     "collapsed": false,
     "input": [
      "# What are these negative scores?\n",
      "blog_data.sort(['grade_level', 'shares'], ascending=[True, False])[['title', 'summary', 'grade_level', 'shares']][:10]"
     ],
     "language": "python",
     "metadata": {},
     "outputs": [
      {
       "html": [
        "<div style=\"max-height:1000px;max-width:1500px;overflow:auto;\">\n",
        "<table border=\"1\" class=\"dataframe\">\n",
        "  <thead>\n",
        "    <tr style=\"text-align: right;\">\n",
        "      <th></th>\n",
        "      <th>title</th>\n",
        "      <th>summary</th>\n",
        "      <th>grade_level</th>\n",
        "      <th>shares</th>\n",
        "    </tr>\n",
        "  </thead>\n",
        "  <tbody>\n",
        "    <tr>\n",
        "      <th>13977</th>\n",
        "      <td>                                            Hodor?</td>\n",
        "      <td>                                Hodor?</td>\n",
        "      <td>-15.200</td>\n",
        "      <td> 18962</td>\n",
        "    </tr>\n",
        "    <tr>\n",
        "      <th>17542</th>\n",
        "      <td>                           How Misandrist Are You?</td>\n",
        "      <td>                               #BanMen</td>\n",
        "      <td>-15.200</td>\n",
        "      <td> 17415</td>\n",
        "    </tr>\n",
        "    <tr>\n",
        "      <th>18336</th>\n",
        "      <td>                       How Many F#@ks Do You Give?</td>\n",
        "      <td>                                DYGAF?</td>\n",
        "      <td>-15.200</td>\n",
        "      <td>  6309</td>\n",
        "    </tr>\n",
        "    <tr>\n",
        "      <th>13461</th>\n",
        "      <td>                              How Persian Are You?</td>\n",
        "      <td>                             Vuyyyyyy.</td>\n",
        "      <td>-15.200</td>\n",
        "      <td>  5131</td>\n",
        "    </tr>\n",
        "    <tr>\n",
        "      <th>21488</th>\n",
        "      <td>                      Which Celebrity Cat Are You?</td>\n",
        "      <td>                    meeeeeeeeeoooooow.</td>\n",
        "      <td>-15.200</td>\n",
        "      <td>  4000</td>\n",
        "    </tr>\n",
        "    <tr>\n",
        "      <th>15144</th>\n",
        "      <td>                  Should You Get Out Of Bed Today?</td>\n",
        "      <td>                  Hmmmmmmmmmmmmmmmmmm.</td>\n",
        "      <td>-15.200</td>\n",
        "      <td>  3815</td>\n",
        "    </tr>\n",
        "    <tr>\n",
        "      <th>6343 </th>\n",
        "      <td>                  How Much Do You Hate Small Talk?</td>\n",
        "      <td>                              Soooo\u2026\u2026\u2026</td>\n",
        "      <td>-15.200</td>\n",
        "      <td>  2256</td>\n",
        "    </tr>\n",
        "    <tr>\n",
        "      <th>349  </th>\n",
        "      <td> FYI, Lady Gaga And Christina Aguilera Have Rel...</td>\n",
        "      <td>                 SLAAAAAY. youtube.com</td>\n",
        "      <td>-15.200</td>\n",
        "      <td>   510</td>\n",
        "    </tr>\n",
        "    <tr>\n",
        "      <th>4779 </th>\n",
        "      <td> Obama's Super Bowl Interview With Bill O'Reill...</td>\n",
        "      <td>                              JICYMI .</td>\n",
        "      <td>-15.200</td>\n",
        "      <td>   192</td>\n",
        "    </tr>\n",
        "    <tr>\n",
        "      <th>17768</th>\n",
        "      <td>                       When Rihanna Met Aaron Paul</td>\n",
        "      <td> #Pinkman4President. Twitter: @rihanna</td>\n",
        "      <td>-15.005</td>\n",
        "      <td>   126</td>\n",
        "    </tr>\n",
        "  </tbody>\n",
        "</table>\n",
        "</div>"
       ],
       "metadata": {},
       "output_type": "pyout",
       "prompt_number": 56,
       "text": [
        "                                                   title  \\\n",
        "13977                                             Hodor?   \n",
        "17542                            How Misandrist Are You?   \n",
        "18336                        How Many F#@ks Do You Give?   \n",
        "13461                               How Persian Are You?   \n",
        "21488                       Which Celebrity Cat Are You?   \n",
        "15144                   Should You Get Out Of Bed Today?   \n",
        "6343                    How Much Do You Hate Small Talk?   \n",
        "349    FYI, Lady Gaga And Christina Aguilera Have Rel...   \n",
        "4779   Obama's Super Bowl Interview With Bill O'Reill...   \n",
        "17768                        When Rihanna Met Aaron Paul   \n",
        "\n",
        "                                     summary  grade_level  shares  \n",
        "13977                                 Hodor?      -15.200   18962  \n",
        "17542                                #BanMen      -15.200   17415  \n",
        "18336                                 DYGAF?      -15.200    6309  \n",
        "13461                              Vuyyyyyy.      -15.200    5131  \n",
        "21488                     meeeeeeeeeoooooow.      -15.200    4000  \n",
        "15144                   Hmmmmmmmmmmmmmmmmmm.      -15.200    3815  \n",
        "6343                                Soooo\u2026\u2026\u2026      -15.200    2256  \n",
        "349                    SLAAAAAY. youtube.com      -15.200     510  \n",
        "4779                                JICYMI .      -15.200     192  \n",
        "17768  #Pinkman4President. Twitter: @rihanna      -15.005     126  "
       ]
      }
     ],
     "prompt_number": 56
    },
    {
     "cell_type": "heading",
     "level": 3,
     "metadata": {},
     "source": [
      "(Attempting to) predict post virality..."
     ]
    },
    {
     "cell_type": "markdown",
     "metadata": {},
     "source": [
      "####Features:\n",
      "- List-type post\n",
      "- Question-type post\n",
      "- \"Actually\" post\n",
      "- Title length\n",
      "- Summary length\n",
      "- Day of week\n",
      "- Time of day\n",
      "- Summary readability"
     ]
    },
    {
     "cell_type": "heading",
     "level": 3,
     "metadata": {},
     "source": [
      "Data preprocessing"
     ]
    },
    {
     "cell_type": "code",
     "collapsed": false,
     "input": [
      "# Randomly shuffle rows\n",
      "blog_data = blog_data.apply(np.random.permutation)\n",
      "\n",
      "# Use these columns as features\n",
      "feature_list = ['list_post', \n",
      "                'question_post', \n",
      "                'actually', \n",
      "                'title_length', \n",
      "                'summary_log_len', \n",
      "                'dow', \n",
      "                'tod', \n",
      "                'grade_level',\n",
      "                ]"
     ],
     "language": "python",
     "metadata": {},
     "outputs": [],
     "prompt_number": 57
    },
    {
     "cell_type": "code",
     "collapsed": false,
     "input": [
      "# Prepare only the columns we need (features + target)\n",
      "reduced_blog_data = blog_data[feature_list + ['shares']]"
     ],
     "language": "python",
     "metadata": {},
     "outputs": [],
     "prompt_number": 58
    },
    {
     "cell_type": "code",
     "collapsed": false,
     "input": [
      "# Check for NaN's\n",
      "reduced_blog_data.isnull().any()"
     ],
     "language": "python",
     "metadata": {},
     "outputs": [
      {
       "metadata": {},
       "output_type": "pyout",
       "prompt_number": 59,
       "text": [
        "list_post          False\n",
        "question_post      False\n",
        "actually           False\n",
        "title_length       False\n",
        "summary_log_len    False\n",
        "dow                False\n",
        "tod                False\n",
        "grade_level        False\n",
        "shares             False\n",
        "dtype: bool"
       ]
      }
     ],
     "prompt_number": 59
    },
    {
     "cell_type": "code",
     "collapsed": false,
     "input": [
      "from sklearn.preprocessing import StandardScaler\n",
      "\n",
      "# Normalize the data\n",
      "scaler = StandardScaler().fit(reduced_blog_data.astype(np.float))\n",
      "norm_array = scaler.transform(reduced_blog_data.astype(np.float))\n",
      "norm_blog_data = pd.DataFrame(norm_array, columns=reduced_blog_data.columns)"
     ],
     "language": "python",
     "metadata": {},
     "outputs": [],
     "prompt_number": 60
    },
    {
     "cell_type": "heading",
     "level": 3,
     "metadata": {},
     "source": [
      "Train the model"
     ]
    },
    {
     "cell_type": "code",
     "collapsed": false,
     "input": [
      "# Sample 80% of the data for training; keep 20% for testing\n",
      "train_prop = int(.8*len(norm_blog_data))\n",
      "training_set = norm_blog_data[:train_prop]\n",
      "testing_set = norm_blog_data[train_prop:]\n",
      "\n",
      "features = training_set[feature_list]\n",
      "target = training_set.shares"
     ],
     "language": "python",
     "metadata": {},
     "outputs": [],
     "prompt_number": 61
    },
    {
     "cell_type": "code",
     "collapsed": false,
     "input": [
      "from sklearn import linear_model\n",
      "\n",
      "# Fit a linear classifier to the training data using stochastic gradient descent\n",
      "# (probably not a great idea; features are likely to be highly correlated)\n",
      "clf = linear_model.SGDRegressor()\n",
      "clf.fit(features, target)"
     ],
     "language": "python",
     "metadata": {},
     "outputs": [
      {
       "metadata": {},
       "output_type": "pyout",
       "prompt_number": 62,
       "text": [
        "SGDRegressor(alpha=0.0001, epsilon=0.1, eta0=0.01, fit_intercept=True,\n",
        "       l1_ratio=0.15, learning_rate='invscaling', loss='squared_loss',\n",
        "       n_iter=5, penalty='l2', power_t=0.25, random_state=None,\n",
        "       shuffle=False, verbose=0, warm_start=False)"
       ]
      }
     ],
     "prompt_number": 62
    },
    {
     "cell_type": "code",
     "collapsed": false,
     "input": [
      "# Predict results of testing set to measure accuracy\n",
      "predicted_shares = clf.predict(testing_set[feature_list])"
     ],
     "language": "python",
     "metadata": {},
     "outputs": [],
     "prompt_number": 63
    },
    {
     "cell_type": "code",
     "collapsed": false,
     "input": [
      "from sklearn.metrics import r2_score\n",
      "\n",
      "# Measure the accuracy of the predictions\n",
      "r2_score(testing_set.shares, predicted_shares)"
     ],
     "language": "python",
     "metadata": {},
     "outputs": [
      {
       "metadata": {},
       "output_type": "pyout",
       "prompt_number": 64,
       "text": [
        "-0.0032258761644354816"
       ]
      }
     ],
     "prompt_number": 64
    },
    {
     "cell_type": "heading",
     "level": 2,
     "metadata": {},
     "source": [
      "Let's make the problem slightly more feasible..."
     ]
    },
    {
     "cell_type": "heading",
     "level": 3,
     "metadata": {},
     "source": [
      "Classify into ranges of virality - *not* an exact, continuous number of shares!"
     ]
    },
    {
     "cell_type": "code",
     "collapsed": false,
     "input": [
      "# Bin the number of shares into buckets\n",
      "bins = [0, 1e3, 1e4, 1e5, blog_data.shares.max()]\n",
      "blog_data['binned_shares'] = pd.cut(blog_data.shares, bins=bins, labels=bins[1:])\n",
      "\n",
      "# Check the distribution of binned shares\n",
      "blog_data.groupby('binned_shares').size()"
     ],
     "language": "python",
     "metadata": {},
     "outputs": [
      {
       "metadata": {},
       "output_type": "pyout",
       "prompt_number": 65,
       "text": [
        "binned_shares\n",
        "1000             11532\n",
        "10000            10087\n",
        "100000            3150\n",
        "3349344            419\n",
        "dtype: int64"
       ]
      }
     ],
     "prompt_number": 65
    },
    {
     "cell_type": "code",
     "collapsed": false,
     "input": [
      "# As before, prepare the data...\n",
      "reduced_blog_data = blog_data[feature_list] # + ['binned_shares']\n",
      "\n",
      "scaler = StandardScaler().fit(reduced_blog_data.astype(np.float))\n",
      "norm_array = scaler.transform(reduced_blog_data.astype(np.float))\n",
      "norm_blog_data = pd.DataFrame(norm_array, columns=reduced_blog_data.columns)\n",
      "norm_blog_data.isnull().any()\n",
      "\n",
      "train_prop = int(.8*len(norm_blog_data))\n",
      "training_set = norm_blog_data[:train_prop]\n",
      "testing_set = norm_blog_data[train_prop:]\n",
      "\n",
      "features = training_set[feature_list]\n",
      "target = blog_data[:train_prop].binned_shares.astype(str)\n",
      "true_test_shares = blog_data[train_prop:].binned_shares.astype(str)"
     ],
     "language": "python",
     "metadata": {},
     "outputs": [],
     "prompt_number": 66
    },
    {
     "cell_type": "code",
     "collapsed": false,
     "input": [
      "# Fit a classifier on the binned shares and predict\n",
      "clf = linear_model.SGDClassifier()\n",
      "clf.fit(features, target)\n",
      "predicted_shares = clf.predict(testing_set)"
     ],
     "language": "python",
     "metadata": {},
     "outputs": [],
     "prompt_number": 67
    },
    {
     "cell_type": "code",
     "collapsed": false,
     "input": [
      "from sklearn.metrics import accuracy_score\n",
      "\n",
      "# Measure the accuracy of binned predictions among the 4 categories\n",
      "accuracy_score(true_test_shares, predicted_shares)"
     ],
     "language": "python",
     "metadata": {},
     "outputs": [
      {
       "metadata": {},
       "output_type": "pyout",
       "prompt_number": 68,
       "text": [
        "0.42119888844779674"
       ]
      }
     ],
     "prompt_number": 68
    }
    ],
   "metadata": {}
  }
 ]
}
